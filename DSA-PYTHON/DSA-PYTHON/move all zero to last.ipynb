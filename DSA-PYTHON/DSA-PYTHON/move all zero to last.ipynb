{
 "cells": [
  {
   "cell_type": "code",
   "execution_count": 1,
   "id": "17d2f6b7-2da9-4938-b55b-83cb51c6d102",
   "metadata": {},
   "outputs": [
    {
     "name": "stdout",
     "output_type": "stream",
     "text": [
      "Output :  [1, 1, 1, 1, 0, 0, 0, 0, 0]\n"
     ]
    }
   ],
   "source": [
    "import numpy as np\n",
    "y = np.array([0,1,0,1,0,0,1,1,0])\n",
    "def zero_one(y):\n",
    "    count_0 = 0\n",
    "    count_1 = 0\n",
    "    for i in y:\n",
    "        if i == 0:\n",
    "            count_0 += 1\n",
    "        elif i == 1:\n",
    "            count_1 += 1\n",
    "\n",
    "    result = ([1] *count_1) + ([0]*count_0)\n",
    "    return result\n",
    "print('Output : ',zero_one(y))"
   ]
  },
  {
   "cell_type": "code",
   "execution_count": 9,
   "id": "51701ec8-526d-4032-9696-16f31ccffb16",
   "metadata": {},
   "outputs": [
    {
     "name": "stdout",
     "output_type": "stream",
     "text": [
      "Output :  ('one', 4, 'Two', 5)\n"
     ]
    }
   ],
   "source": [
    "import numpy as np\n",
    "y = np.array([0,1,0,1,0,0,1,1,0])\n",
    "def zero_one(y):\n",
    "    count_0 = 0\n",
    "    count_1 = 0\n",
    "    for i in y:\n",
    "        if i == 0:\n",
    "            count_0 += 1\n",
    "        elif i == 1:\n",
    "            count_1 += 1\n",
    "\n",
    "    result ='one',count_1,'Two',count_0\n",
    "    return result\n",
    "print('Output : ',zero_one(y))"
   ]
  },
  {
   "cell_type": "code",
   "execution_count": null,
   "id": "b7b2dd70-fe4e-4c2d-9153-c5141a6314be",
   "metadata": {},
   "outputs": [],
   "source": []
  }
 ],
 "metadata": {
  "kernelspec": {
   "display_name": "Python 3 (ipykernel)",
   "language": "python",
   "name": "python3"
  },
  "language_info": {
   "codemirror_mode": {
    "name": "ipython",
    "version": 3
   },
   "file_extension": ".py",
   "mimetype": "text/x-python",
   "name": "python",
   "nbconvert_exporter": "python",
   "pygments_lexer": "ipython3",
   "version": "3.12.7"
  }
 },
 "nbformat": 4,
 "nbformat_minor": 5
}
