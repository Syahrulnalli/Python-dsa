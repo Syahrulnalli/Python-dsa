{
 "cells": [
  {
   "cell_type": "code",
   "execution_count": 1,
   "id": "2c38665c-c23d-4068-8e16-5dd8488072b8",
   "metadata": {},
   "outputs": [
    {
     "name": "stdout",
     "output_type": "stream",
     "text": [
      "last index of one : 10\n"
     ]
    }
   ],
   "source": [
    "import numpy as np\n",
    "x=np.array([0,0,1,0,1,0,1,0,1,1,1])\n",
    "def last1_occur(x):\n",
    "    index=-1\n",
    "    n =len(x)\n",
    "    for i in range (n):\n",
    "        if x[i]==1:\n",
    "           index=i\n",
    "    return index\n",
    "        \n",
    "        \n",
    "print(\"last index of one :\", last1_occur(x))"
   ]
  },
  {
   "cell_type": "code",
   "execution_count": 3,
   "id": "3aa46058-cf85-4d63-86a5-e2a55f94a562",
   "metadata": {},
   "outputs": [
    {
     "name": "stdout",
     "output_type": "stream",
     "text": [
      "index of the last occured 1 in array [0, 1, 0, 1, 1, 1, 0, 1, 0] :  7\n"
     ]
    }
   ],
   "source": [
    "array = [0,1,0,1,1,1,0,1,0]\n",
    "def last_one(x):\n",
    "    index = -1\n",
    "    n=len(array) \n",
    "    for i in range(n):\n",
    "        if x[i] ==1:\n",
    "            index = i\n",
    "    return index\n",
    "print(f'index of the last occured 1 in array {array} : ',last_one(array))"
   ]
  },
  {
   "cell_type": "code",
   "execution_count": null,
   "id": "9aa38eae-7b2d-480d-ab21-46cdbf31808e",
   "metadata": {},
   "outputs": [],
   "source": []
  }
 ],
 "metadata": {
  "kernelspec": {
   "display_name": "Python 3 (ipykernel)",
   "language": "python",
   "name": "python3"
  },
  "language_info": {
   "codemirror_mode": {
    "name": "ipython",
    "version": 3
   },
   "file_extension": ".py",
   "mimetype": "text/x-python",
   "name": "python",
   "nbconvert_exporter": "python",
   "pygments_lexer": "ipython3",
   "version": "3.12.7"
  }
 },
 "nbformat": 4,
 "nbformat_minor": 5
}
