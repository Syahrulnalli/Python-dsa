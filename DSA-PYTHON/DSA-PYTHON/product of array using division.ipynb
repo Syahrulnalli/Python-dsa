{
 "cells": [
  {
   "cell_type": "code",
   "execution_count": 1,
   "id": "836057c9-2fc2-439b-ac2a-d5814f2eb937",
   "metadata": {},
   "outputs": [
    {
     "ename": "IndentationError",
     "evalue": "unexpected indent (3273810123.py, line 6)",
     "output_type": "error",
     "traceback": [
      "\u001b[1;36m  Cell \u001b[1;32mIn[1], line 6\u001b[1;36m\u001b[0m\n\u001b[1;33m    prod_arr=[]\u001b[0m\n\u001b[1;37m    ^\u001b[0m\n\u001b[1;31mIndentationError\u001b[0m\u001b[1;31m:\u001b[0m unexpected indent\n"
     ]
    }
   ],
   "source": [
    "import numpy as np\n",
    "import math\n",
    "x=np.array([1,2,3,4,5])\n",
    "def prod_arr_div(x):\n",
    "   total_product=math.prod(x)\n",
    "    prod_arr=[]\n",
    "    for i in range x:\n",
    "        prod_arr.append(total_product//i)\n",
    "        return prod_arr\n",
    "print(\"orignal Array:\",x)\n",
    "result=prod_arr_div(x)\n",
    "print(\"Product Array:\" ,result)"
   ]
  },
  {
   "cell_type": "code",
   "execution_count": null,
   "id": "55774224-d9e7-49c4-a5f9-80f3b8a1e64f",
   "metadata": {},
   "outputs": [],
   "source": []
  }
 ],
 "metadata": {
  "kernelspec": {
   "display_name": "Python 3 (ipykernel)",
   "language": "python",
   "name": "python3"
  },
  "language_info": {
   "codemirror_mode": {
    "name": "ipython",
    "version": 3
   },
   "file_extension": ".py",
   "mimetype": "text/x-python",
   "name": "python",
   "nbconvert_exporter": "python",
   "pygments_lexer": "ipython3",
   "version": "3.12.7"
  }
 },
 "nbformat": 4,
 "nbformat_minor": 5
}
