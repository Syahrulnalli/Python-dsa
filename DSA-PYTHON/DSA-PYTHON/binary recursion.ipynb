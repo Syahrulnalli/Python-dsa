{
 "cells": [
  {
   "cell_type": "code",
   "execution_count": 3,
   "id": "528ae512-201c-420c-a1b6-2395e5bb1c24",
   "metadata": {},
   "outputs": [
    {
     "ename": "SyntaxError",
     "evalue": "incomplete input (1019046511.py, line 14)",
     "output_type": "error",
     "traceback": [
      "\u001b[1;36m  Cell \u001b[1;32mIn[3], line 14\u001b[1;36m\u001b[0m\n\u001b[1;33m    print(f\"Fibonacci number at position {n} is {fibonacci(n)}\"\u001b[0m\n\u001b[1;37m                                                               ^\u001b[0m\n\u001b[1;31mSyntaxError\u001b[0m\u001b[1;31m:\u001b[0m incomplete input\n"
     ]
    }
   ],
   "source": [
    "def fibonacci(n):\n",
    "# Base case\n",
    "    if n < 1:\n",
    "        return -1\n",
    "    elif n==1:\n",
    "        return 0\n",
    "    elif n==2:\n",
    "        return 1\n",
    "# Recursive case (binary recursion)\n",
    "    else:\n",
    "        return fibonacci(n-1) + fibonacci(n-2)\n",
    "# Example usage\n",
    "n = 5 # Change this value to test other positions\n",
    "print(f\"Fibonacci number at position {n} is {fibonacci(n)}\""
   ]
  },
  {
   "cell_type": "code",
   "execution_count": null,
   "id": "fd82594c-7724-40d0-99df-00de512a542f",
   "metadata": {},
   "outputs": [],
   "source": []
  }
 ],
 "metadata": {
  "kernelspec": {
   "display_name": "Python 3 (ipykernel)",
   "language": "python",
   "name": "python3"
  },
  "language_info": {
   "codemirror_mode": {
    "name": "ipython",
    "version": 3
   },
   "file_extension": ".py",
   "mimetype": "text/x-python",
   "name": "python",
   "nbconvert_exporter": "python",
   "pygments_lexer": "ipython3",
   "version": "3.12.7"
  }
 },
 "nbformat": 4,
 "nbformat_minor": 5
}
