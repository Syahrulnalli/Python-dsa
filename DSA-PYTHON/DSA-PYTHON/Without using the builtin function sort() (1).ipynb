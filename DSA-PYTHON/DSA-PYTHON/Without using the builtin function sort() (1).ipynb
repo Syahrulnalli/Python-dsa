{
 "cells": [
  {
   "cell_type": "code",
   "execution_count": 3,
   "id": "c344b325-3d0f-4446-842d-9461aa1b63f5",
   "metadata": {},
   "outputs": [
    {
     "name": "stdout",
     "output_type": "stream",
     "text": [
      "Sorted list is: [10, 13, 14, 29, 37]\n"
     ]
    }
   ],
   "source": [
    "def selection_sort(arr):\n",
    "    n = len(arr)\n",
    "    for i in range(n):\n",
    "        # Find the index of the smallest element in the remaining unsorted portion\n",
    "        min_index = i\n",
    "        for j in range(i + 1, n):\n",
    "            if arr[j] < arr[min_index]:\n",
    "                min_index = j\n",
    "        # Swap the smallest element with the first unsorted element\n",
    "        arr[i], arr[min_index] = arr[min_index], arr[i]\n",
    "\n",
    "# Example usage\n",
    "numbers = [29, 10, 14, 37, 13]\n",
    "selection_sort(numbers)\n",
    "print(\"Sorted list is:\", numbers)\n"
   ]
  },
  {
   "cell_type": "code",
   "execution_count": null,
   "id": "0d6c03ff-0575-4ca9-9fc1-b37da8e070d3",
   "metadata": {},
   "outputs": [],
   "source": []
  }
 ],
 "metadata": {
  "kernelspec": {
   "display_name": "Python 3 (ipykernel)",
   "language": "python",
   "name": "python3"
  },
  "language_info": {
   "codemirror_mode": {
    "name": "ipython",
    "version": 3
   },
   "file_extension": ".py",
   "mimetype": "text/x-python",
   "name": "python",
   "nbconvert_exporter": "python",
   "pygments_lexer": "ipython3",
   "version": "3.12.7"
  }
 },
 "nbformat": 4,
 "nbformat_minor": 5
}
