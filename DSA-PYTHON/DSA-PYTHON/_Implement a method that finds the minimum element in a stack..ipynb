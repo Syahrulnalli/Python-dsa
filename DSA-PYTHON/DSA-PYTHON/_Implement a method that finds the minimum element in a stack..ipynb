{
 "cells": [
  {
   "cell_type": "code",
   "execution_count": 1,
   "id": "d83c7ac9-8ca4-40b2-84d2-275b4818c73f",
   "metadata": {},
   "outputs": [
    {
     "name": "stdout",
     "output_type": "stream",
     "text": [
      "Minimum so far: 5\n",
      "Minimum now: 5\n",
      "Minimum now: 10\n"
     ]
    }
   ],
   "source": [
    "class MinStack:\n",
    "    def __init__(self):\n",
    "        self.stack = []\n",
    "        self.min_stack = []\n",
    "\n",
    "    def push(self, value):\n",
    "        self.stack.append(value)\n",
    "        if not self.min_stack or value <= self.min_stack[-1]:\n",
    "            self.min_stack.append(value)\n",
    "\n",
    "    def pop(self):\n",
    "        if self.stack:\n",
    "            value = self.stack.pop()\n",
    "            if value == self.min_stack[-1]:\n",
    "                self.min_stack.pop()\n",
    "\n",
    "    def get_min(self):\n",
    "        return self.min_stack[-1] if self.min_stack else None\n",
    "\n",
    "\n",
    "stack = MinStack()\n",
    "stack.push(10)\n",
    "stack.push(5)\n",
    "stack.push(20)\n",
    "print(\"Minimum so far:\", stack.get_min())  \n",
    "stack.pop()\n",
    "print(\"Minimum now:\", stack.get_min())    \n",
    "stack.pop()\n",
    "print(\"Minimum now:\", stack.get_min())  "
   ]
  },
  {
   "cell_type": "code",
   "execution_count": null,
   "id": "3d850889-0ca0-4526-8faf-59e4980fe12b",
   "metadata": {},
   "outputs": [],
   "source": []
  }
 ],
 "metadata": {
  "kernelspec": {
   "display_name": "Python 3 (ipykernel)",
   "language": "python",
   "name": "python3"
  },
  "language_info": {
   "codemirror_mode": {
    "name": "ipython",
    "version": 3
   },
   "file_extension": ".py",
   "mimetype": "text/x-python",
   "name": "python",
   "nbconvert_exporter": "python",
   "pygments_lexer": "ipython3",
   "version": "3.12.7"
  }
 },
 "nbformat": 4,
 "nbformat_minor": 5
}
