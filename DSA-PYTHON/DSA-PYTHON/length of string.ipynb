{
 "cells": [
  {
   "cell_type": "code",
   "execution_count": 5,
   "id": "4ae4e3ba-d0e5-40c8-81de-4cd0ae78cc45",
   "metadata": {},
   "outputs": [
    {
     "name": "stdout",
     "output_type": "stream",
     "text": [
      "The length of the string 'Adarsh' is 6\n"
     ]
    }
   ],
   "source": [
    "# 10) write a recursive function to find the length of a string.\n",
    "def string_length(s):\n",
    "    if s == \"\":\n",
    "        return 0\n",
    "    return 1 + string_length(s[1:])\n",
    "\n",
    "# Input string\n",
    "string = \"Adarsh\"\n",
    "\n",
    "# Call the function\n",
    "length = string_length(string)\n",
    "\n",
    "# Print the result\n",
    "print(f\"The length of the string '{string}' is {length}\")\n"
   ]
  },
  {
   "cell_type": "code",
   "execution_count": null,
   "id": "186a4021-fb75-457d-b882-6d2d67f2c8ce",
   "metadata": {},
   "outputs": [],
   "source": []
  }
 ],
 "metadata": {
  "kernelspec": {
   "display_name": "Python 3 (ipykernel)",
   "language": "python",
   "name": "python3"
  },
  "language_info": {
   "codemirror_mode": {
    "name": "ipython",
    "version": 3
   },
   "file_extension": ".py",
   "mimetype": "text/x-python",
   "name": "python",
   "nbconvert_exporter": "python",
   "pygments_lexer": "ipython3",
   "version": "3.12.7"
  }
 },
 "nbformat": 4,
 "nbformat_minor": 5
}
