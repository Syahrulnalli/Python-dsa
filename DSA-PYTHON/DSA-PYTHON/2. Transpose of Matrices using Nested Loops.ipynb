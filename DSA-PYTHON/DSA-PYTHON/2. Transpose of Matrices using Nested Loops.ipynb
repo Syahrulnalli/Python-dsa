{
 "cells": [
  {
   "cell_type": "code",
   "execution_count": 1,
   "id": "e17133c1-2edf-4e5a-9c66-8c72f1262f75",
   "metadata": {},
   "outputs": [
    {
     "name": "stdout",
     "output_type": "stream",
     "text": [
      "[1, 4, 7]\n",
      "[2, 5, 8]\n",
      "[3, 6, 9]\n"
     ]
    }
   ],
   "source": [
    "def transpose_matrix(matrix):\n",
    "    # Get the dimensions of the matrix\n",
    "    rows = len(matrix)\n",
    "    cols = len(matrix[0])\n",
    "    \n",
    "    # Create a transposed matrix with zeros\n",
    "    transpose = [[0 for _ in range(rows)] for _ in range(cols)]\n",
    "    \n",
    "    # Perform the transpose\n",
    "    for i in range(rows):\n",
    "        for j in range(cols):\n",
    "            transpose[j][i] = matrix[i][j]\n",
    "    \n",
    "    return transpose\n",
    "\n",
    "# Example usage\n",
    "matrix = [\n",
    "    [1, 2, 3],\n",
    "    [4, 5, 6],\n",
    "    [7, 8, 9]\n",
    "]\n",
    "\n",
    "transposed = transpose_matrix(matrix)\n",
    "for row in transposed:\n",
    "    print(row)\n"
   ]
  },
  {
   "cell_type": "code",
   "execution_count": null,
   "id": "060f5e38-44e8-4412-9020-0a4cf949f653",
   "metadata": {},
   "outputs": [],
   "source": []
  }
 ],
 "metadata": {
  "kernelspec": {
   "display_name": "Python 3 (ipykernel)",
   "language": "python",
   "name": "python3"
  },
  "language_info": {
   "codemirror_mode": {
    "name": "ipython",
    "version": 3
   },
   "file_extension": ".py",
   "mimetype": "text/x-python",
   "name": "python",
   "nbconvert_exporter": "python",
   "pygments_lexer": "ipython3",
   "version": "3.12.7"
  }
 },
 "nbformat": 4,
 "nbformat_minor": 5
}
