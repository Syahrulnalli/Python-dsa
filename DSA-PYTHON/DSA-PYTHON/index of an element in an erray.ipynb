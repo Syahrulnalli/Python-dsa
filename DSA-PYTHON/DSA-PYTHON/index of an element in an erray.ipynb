{
 "cells": [
  {
   "cell_type": "code",
   "execution_count": null,
   "id": "ffacb5b5-c8c7-4812-a11f-a712a010101b",
   "metadata": {},
   "outputs": [],
   "source": [
    "import numpy as np\n",
    "y=np.array([10,55,65,29,32,81,69])\n",
    "search = int(input())\n",
    "def a_index(x,search):\n",
    "    try:\n",
    "        for i in range(len(y)):\n",
    "            if x[i] == search:\n",
    "                return i\n",
    "        raise ValueError('Element not found')\n",
    "    except ValueError:\n",
    "        return -1\n",
    "\n",
    "            \n",
    "  \n",
    "print(a_index(y,search))"
   ]
  },
  {
   "cell_type": "code",
   "execution_count": null,
   "id": "cb9058e9-82e9-4039-90f8-3da289550320",
   "metadata": {},
   "outputs": [],
   "source": []
  }
 ],
 "metadata": {
  "kernelspec": {
   "display_name": "Python 3 (ipykernel)",
   "language": "python",
   "name": "python3"
  },
  "language_info": {
   "codemirror_mode": {
    "name": "ipython",
    "version": 3
   },
   "file_extension": ".py",
   "mimetype": "text/x-python",
   "name": "python",
   "nbconvert_exporter": "python",
   "pygments_lexer": "ipython3",
   "version": "3.12.7"
  }
 },
 "nbformat": 4,
 "nbformat_minor": 5
}
