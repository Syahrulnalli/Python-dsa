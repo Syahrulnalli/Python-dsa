{
 "cells": [
  {
   "cell_type": "code",
   "execution_count": 1,
   "id": "08a7a9e1-ecd2-4437-b0da-8ec432e4fd18",
   "metadata": {},
   "outputs": [
    {
     "name": "stdout",
     "output_type": "stream",
     "text": [
      "6\n"
     ]
    }
   ],
   "source": [
    "#self\n",
    "n=15\n",
    "d=2\n",
    "high = n\n",
    "low=1\n",
    "\n",
    "while low <= high:\n",
    "    mid = (low+ high)//2\n",
    "    sum_dig = sum(int(digit) for digit in str(mid))\n",
    "    if (mid - sum_dig)<=d:\n",
    "        low = mid+1\n",
    "    else:\n",
    "        high = mid-1\n",
    "\n",
    "result = n-high\n",
    "print(result)"
   ]
  },
  {
   "cell_type": "code",
   "execution_count": 17,
   "id": "ae5a0092-0030-45f2-802c-7f53e20a987e",
   "metadata": {},
   "outputs": [
    {
     "name": "stdout",
     "output_type": "stream",
     "text": [
      "60\n"
     ]
    }
   ],
   "source": [
    "#mam code\n",
    "n=69\n",
    "D=2\n",
    "low=1 \n",
    "high=13\n",
    "while low<=high:\n",
    "    mid=(high+low)//2\n",
    "    sum_d=sum(int(i)for i in str(mid))\n",
    "    diff=(mid-sum_d)\n",
    "    if abs(diff)<=2:\n",
    "        low =mid+1\n",
    "    else:\n",
    "        high=mid-1\n",
    "result=n-high\n",
    "print(result)"
   ]
  },
  {
   "cell_type": "code",
   "execution_count": 33,
   "id": "82d9b9ce-5c6f-4aad-8619-4e73aa26b7f5",
   "metadata": {},
   "outputs": [
    {
     "name": "stdout",
     "output_type": "stream",
     "text": [
      "10\n",
      "60\n",
      "20\n",
      "30\n",
      "40\n",
      "50\n"
     ]
    },
    {
     "data": {
      "text/plain": [
       "'print(array1[0])\\nprint(array1[2])'"
      ]
     },
     "execution_count": 33,
     "metadata": {},
     "output_type": "execute_result"
    }
   ],
   "source": [
    "#creating an array\n",
    "from array import*\n",
    "array1=array('i',[10,20,30,40,50])\n",
    "array1.insert(1,60)\n",
    "for x in array1:\n",
    "    print(x)\n",
    "\n",
    "    \n",
    "\"\"\"print(array1[0])\n",
    "print(array1[2])\"\"\""
   ]
  },
  {
   "cell_type": "code",
   "execution_count": 35,
   "id": "a06c5097-6759-4a7f-81e9-4318fcdecf59",
   "metadata": {},
   "outputs": [
    {
     "name": "stdout",
     "output_type": "stream",
     "text": [
      "10\n",
      "60\n",
      "20\n",
      "30\n",
      "40\n",
      "50\n"
     ]
    }
   ],
   "source": [
    "#instertion\n",
    "from array import*\n",
    "array1=array('i',[10,20,30,40,50])\n",
    "array1.insert(1,60)\n",
    "for x in array1:\n",
    "    print(x)"
   ]
  },
  {
   "cell_type": "code",
   "execution_count": 45,
   "id": "ccd89921-b2fe-42f0-9907-27d2d2db082c",
   "metadata": {},
   "outputs": [
    {
     "name": "stdout",
     "output_type": "stream",
     "text": [
      "10\n",
      "20\n",
      "30\n",
      "50\n"
     ]
    }
   ],
   "source": [
    "#removing\n",
    "from array import*\n",
    "array1=array('i',[10,20,30,40,50])\n",
    "array1.remove(40)\n",
    "for x in array1:\n",
    "    print(x)"
   ]
  },
  {
   "cell_type": "code",
   "execution_count": 47,
   "id": "937a1783-f8f7-4547-b138-f1a131b1a5c4",
   "metadata": {},
   "outputs": [
    {
     "name": "stdout",
     "output_type": "stream",
     "text": [
      "4\n"
     ]
    }
   ],
   "source": [
    "#searching\n",
    "from array import*\n",
    "array1=array('i',[10,20,30,40,50])\n",
    "print(array1.index(50))"
   ]
  },
  {
   "cell_type": "code",
   "execution_count": 49,
   "id": "38036f29-a360-4043-ad22-52abb08a36d7",
   "metadata": {},
   "outputs": [
    {
     "name": "stdout",
     "output_type": "stream",
     "text": [
      "10\n",
      "20\n",
      "80\n",
      "40\n",
      "50\n"
     ]
    }
   ],
   "source": [
    "#update \n",
    "from array import*\n",
    "array1=array('i',[10,20,30,40,50])\n",
    "array1[2]=80\n",
    "for x in array1:\n",
    "    print(x)"
   ]
  },
  {
   "cell_type": "code",
   "execution_count": 21,
   "id": "95590a6e-1c99-4740-925a-950f654fe037",
   "metadata": {},
   "outputs": [
    {
     "name": "stdout",
     "output_type": "stream",
     "text": [
      "10\n",
      "70\n"
     ]
    }
   ],
   "source": [
    "#find the largest ans smallest number in the list\n",
    "from array import*\n",
    "array1=array('l',[10,20,30,40,60,70])\n",
    "print(min(array1))\n",
    "print(max(array1))"
   ]
  },
  {
   "cell_type": "code",
   "execution_count": 19,
   "id": "b871c80d-83c3-4b24-bc66-49fe5d4259f2",
   "metadata": {},
   "outputs": [
    {
     "name": "stdout",
     "output_type": "stream",
     "text": [
      "array('i', [10, 20, 30, 40, 50])\n"
     ]
    }
   ],
   "source": [
    "# reverse print in array\n",
    "from array import*\n",
    "array1=array('i',[10,20,30,40,50])\n",
    "print(array1)"
   ]
  },
  {
   "cell_type": "code",
   "execution_count": 23,
   "id": "1af7ea35-0a52-466b-9842-2a199d958e2c",
   "metadata": {},
   "outputs": [
    {
     "name": "stdout",
     "output_type": "stream",
     "text": [
      "array('l', [70, 60, 40, 30, 20, 10])\n"
     ]
    }
   ],
   "source": [
    "print(array1[::-1])"
   ]
  },
  {
   "cell_type": "code",
   "execution_count": 55,
   "id": "a3ba3c1c-6591-4f57-8bdf-c0783592aa39",
   "metadata": {},
   "outputs": [
    {
     "name": "stdout",
     "output_type": "stream",
     "text": [
      "10\n",
      "70\n"
     ]
    }
   ],
   "source": [
    "print(min(array1))\n",
    "print(max(array1))\n"
   ]
  },
  {
   "cell_type": "code",
   "execution_count": 47,
   "id": "b949bdc0-747f-4469-ba98-d3c2d4a453e2",
   "metadata": {},
   "outputs": [
    {
     "name": "stdout",
     "output_type": "stream",
     "text": [
      "Reversed array: array('i', [5, 4, 7, 6, 5, 3, 4, 1])\n"
     ]
    }
   ],
   "source": [
    "# it will come in 2 marks question reversing array \n",
    "import array as arr\n",
    "x=arr.array('i',[1,4,3,5,6,7,4,5])\n",
    "type(x)\n",
    "print(\"Reversed array:\",x[::-1])\n"
   ]
  },
  {
   "cell_type": "code",
   "execution_count": 53,
   "id": "792b3b4a-2d51-4c64-a671-995728e6583d",
   "metadata": {},
   "outputs": [
    {
     "name": "stdout",
     "output_type": "stream",
     "text": [
      "9\n",
      "8\n",
      "7\n",
      "6\n",
      "5\n",
      "4\n",
      "3\n",
      "2\n",
      "1\n",
      "0\n"
     ]
    }
   ],
   "source": [
    "#\n",
    "import array as arr\n",
    "x=arr.array('i',[1,2,4,4,35,3,32,4,24,2])\n",
    "type (x)\n",
    "n=len(x)\n",
    "for i in range (n-1,-1,-1):\n",
    "    print(i)"
   ]
  },
  {
   "cell_type": "code",
   "execution_count": 3,
   "id": "ba85133f-d75d-4497-8203-9d2c85057abf",
   "metadata": {},
   "outputs": [
    {
     "data": {
      "text/plain": [
       "array.array"
      ]
     },
     "execution_count": 3,
     "metadata": {},
     "output_type": "execute_result"
    }
   ],
   "source": [
    "import array as arr\n",
    "x=arr.array('i',[1,3,4,5,6,7,8])\n",
    "type(x)"
   ]
  },
  {
   "cell_type": "code",
   "execution_count": 19,
   "id": "ec174183-9540-4a99-b8f8-b039f1602327",
   "metadata": {},
   "outputs": [
    {
     "name": "stdout",
     "output_type": "stream",
     "text": [
      "<class 'numpy.ndarray'>\n",
      "1\n",
      "2\n",
      "3\n",
      "4\n",
      "6\n",
      "7\n",
      "8\n",
      "9\n",
      "1\n",
      "4\n"
     ]
    }
   ],
   "source": [
    "import numpy as np\n",
    "y=np.array([1,2,3,4,6,7,8,9])\n",
    "print(type(y))\n",
    "for i in y:\n",
    "    print(i)\n",
    "print(y[0])#accessing element from the array\n",
    "print(y[3])"
   ]
  },
  {
   "cell_type": "code",
   "execution_count": 33,
   "id": "704c5523-a8a1-4a27-a1ac-2f05aed88bfb",
   "metadata": {},
   "outputs": [
    {
     "name": "stdout",
     "output_type": "stream",
     "text": [
      "<class 'numpy.ndarray'>\n"
     ]
    }
   ],
   "source": [
    "import numpy as pd\n",
    "z=pd.array([4,5,6,7,4,32,])\n",
    "print(type(z))\n",
    "\n"
   ]
  },
  {
   "cell_type": "code",
   "execution_count": 37,
   "id": "0056d4d5-0c02-4ccf-8dee-5932504744b4",
   "metadata": {},
   "outputs": [
    {
     "data": {
      "text/plain": [
       "array([ 4,  5, 19,  6,  7,  4, 32])"
      ]
     },
     "execution_count": 37,
     "metadata": {},
     "output_type": "execute_result"
    }
   ],
   "source": [
    "pd.insert(z,2,19)"
   ]
  },
  {
   "cell_type": "code",
   "execution_count": null,
   "id": "b6e6859d-1c55-4d77-871b-a6a82cd79ce7",
   "metadata": {},
   "outputs": [],
   "source": []
  }
 ],
 "metadata": {
  "kernelspec": {
   "display_name": "Python 3 (ipykernel)",
   "language": "python",
   "name": "python3"
  },
  "language_info": {
   "codemirror_mode": {
    "name": "ipython",
    "version": 3
   },
   "file_extension": ".py",
   "mimetype": "text/x-python",
   "name": "python",
   "nbconvert_exporter": "python",
   "pygments_lexer": "ipython3",
   "version": "3.12.7"
  }
 },
 "nbformat": 4,
 "nbformat_minor": 5
}
