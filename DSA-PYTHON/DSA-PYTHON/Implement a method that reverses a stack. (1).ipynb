{
 "cells": [
  {
   "cell_type": "code",
   "execution_count": 5,
   "id": "ca1b5563-6fc9-4c2a-b74a-aef3ec90b6be",
   "metadata": {},
   "outputs": [
    {
     "name": "stdout",
     "output_type": "stream",
     "text": [
      "Original Stack: [1, 2, 3, 4, 5]\n",
      "Reversed Stack: [5, 4, 3, 2, 1]\n"
     ]
    }
   ],
   "source": [
    "def reverse_stack(stack):\n",
    "    if len(stack) == 0:\n",
    "        return\n",
    "    # Remove the top element\n",
    "    top = stack.pop()\n",
    "    # Reverse the remaining stack\n",
    "    reverse_stack(stack)\n",
    "    # Insert the element at the bottom\n",
    "    insert_at_bottom(stack, top)\n",
    "\n",
    "def insert_at_bottom(stack, item):\n",
    "    if len(stack) == 0:\n",
    "        stack.append(item)\n",
    "        return\n",
    "    top = stack.pop()\n",
    "    insert_at_bottom(stack, item)\n",
    "    stack.append(top)\n",
    "\n",
    "# Example\n",
    "stack = [1, 2, 3, 4, 5]\n",
    "print(\"Original Stack:\", stack)\n",
    "reverse_stack(stack)\n",
    "print(\"Reversed Stack:\", stack)\n"
   ]
  },
  {
   "cell_type": "code",
   "execution_count": null,
   "id": "16c44c53-25bb-4785-a8b1-3fb9931e7d3f",
   "metadata": {},
   "outputs": [],
   "source": []
  },
  {
   "cell_type": "code",
   "execution_count": null,
   "id": "bd0a920b-d9c6-44c8-a935-49934b016e8b",
   "metadata": {},
   "outputs": [],
   "source": []
  }
 ],
 "metadata": {
  "kernelspec": {
   "display_name": "Python 3 (ipykernel)",
   "language": "python",
   "name": "python3"
  },
  "language_info": {
   "codemirror_mode": {
    "name": "ipython",
    "version": 3
   },
   "file_extension": ".py",
   "mimetype": "text/x-python",
   "name": "python",
   "nbconvert_exporter": "python",
   "pygments_lexer": "ipython3",
   "version": "3.12.7"
  }
 },
 "nbformat": 4,
 "nbformat_minor": 5
}
