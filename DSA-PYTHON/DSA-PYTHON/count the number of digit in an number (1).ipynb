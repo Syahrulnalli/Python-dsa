{
 "cells": [
  {
   "cell_type": "code",
   "execution_count": 3,
   "id": "6ddada3f-f7ab-4c15-b37f-42552703a862",
   "metadata": {},
   "outputs": [
    {
     "name": "stdout",
     "output_type": "stream",
     "text": [
      "The number of digits in 2323232323 is 10\n"
     ]
    }
   ],
   "source": [
    "#8) Write a recursive function to count the number of digits in an integer\n",
    "def count_digits(n):\n",
    "    # Base case\n",
    "    if n == 0:\n",
    "        return 0\n",
    "    # Recursive case\n",
    "    else:\n",
    "        return 1 + count_digits(n // 10)\n",
    "\n",
    "# Example usage\n",
    "number = 12345\n",
    "digit_count = count_digits(number)\n",
    "print(digit_count)  # Output: 5\n"
   ]
  },
  {
   "cell_type": "code",
   "execution_count": null,
   "id": "dd6e3830-7c08-43fd-b9eb-e7f09f3d3b6b",
   "metadata": {},
   "outputs": [],
   "source": []
  }
 ],
 "metadata": {
  "kernelspec": {
   "display_name": "Python 3 (ipykernel)",
   "language": "python",
   "name": "python3"
  },
  "language_info": {
   "codemirror_mode": {
    "name": "ipython",
    "version": 3
   },
   "file_extension": ".py",
   "mimetype": "text/x-python",
   "name": "python",
   "nbconvert_exporter": "python",
   "pygments_lexer": "ipython3",
   "version": "3.12.7"
  }
 },
 "nbformat": 4,
 "nbformat_minor": 5
}
