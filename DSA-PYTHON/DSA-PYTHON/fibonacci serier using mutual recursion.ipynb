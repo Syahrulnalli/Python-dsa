{
 "cells": [
  {
   "cell_type": "code",
   "execution_count": 1,
   "id": "0bb327cd-c325-44b7-b47c-d2cc5b47f548",
   "metadata": {},
   "outputs": [
    {
     "name": "stdout",
     "output_type": "stream",
     "text": [
      "0 1 2 3 8 13 34 55 144 233 "
     ]
    }
   ],
   "source": [
    "#4) Write a program to print Fibonacci series using mutual recursion\n",
    "def fibonacci_even(n):\n",
    "    if n == 0:\n",
    "        return 0\n",
    "    elif n == 1:\n",
    "        return 2\n",
    "    else:\n",
    "        return 4 * fibonacci_even(n-1) + fibonacci_even(n-2)\n",
    "\n",
    "def fibonacci_odd(n):\n",
    "    if n == 0:\n",
    "        return 1\n",
    "    elif n == 1:\n",
    "        return 3\n",
    "    else:\n",
    "        return 4 * fibonacci_odd(n-1) + fibonacci_odd(n-2)\n",
    "\n",
    "def fibonacci_series(n):\n",
    "    for i in range(n):\n",
    "        if i % 2 == 0:\n",
    "            print(fibonacci_even(i // 2), end=\" \")\n",
    "        else:\n",
    "            print(fibonacci_odd(i // 2), end=\" \")\n",
    "\n",
    "# Number of terms in the Fibonacci series\n",
    "num_terms = 10\n",
    "\n",
    "# Print the Fibonacci series\n",
    "fibonacci_series(num_terms)\n"
   ]
  },
  {
   "cell_type": "code",
   "execution_count": null,
   "id": "25f58731-81e9-418f-b9ed-36ad5257f04f",
   "metadata": {},
   "outputs": [],
   "source": []
  }
 ],
 "metadata": {
  "kernelspec": {
   "display_name": "Python 3 (ipykernel)",
   "language": "python",
   "name": "python3"
  },
  "language_info": {
   "codemirror_mode": {
    "name": "ipython",
    "version": 3
   },
   "file_extension": ".py",
   "mimetype": "text/x-python",
   "name": "python",
   "nbconvert_exporter": "python",
   "pygments_lexer": "ipython3",
   "version": "3.12.7"
  }
 },
 "nbformat": 4,
 "nbformat_minor": 5
}
