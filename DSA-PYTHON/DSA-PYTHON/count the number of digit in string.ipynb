{
 "cells": [
  {
   "cell_type": "code",
   "execution_count": 1,
   "id": "b5f52dec-7075-40ff-8171-966dee0fab41",
   "metadata": {},
   "outputs": [
    {
     "name": "stdout",
     "output_type": "stream",
     "text": [
      "The number of digits in the string 'hello123world4' is 4\n"
     ]
    }
   ],
   "source": [
    "# 11) Write a recursive function to count the number of digits in a string.\n",
    "def count_digits_in_string(s):\n",
    "    if s == \"\":\n",
    "        return 0\n",
    "    if s[0].isdigit():\n",
    "        return 1 + count_digits_in_string(s[1:])\n",
    "    else:\n",
    "        return count_digits_in_string(s[1:])\n",
    "\n",
    "# Input string\n",
    "string = \"Adarsh2929k\"\n",
    "\n",
    "# Call the function\n",
    "digit_count = count_digits_in_string(string)\n",
    "\n",
    "# Print the result\n",
    "print(f\"The number of digits in the string '{string}' is {digit_count}\")\n"
   ]
  },
  {
   "cell_type": "code",
   "execution_count": null,
   "id": "584d30f7-6a8a-42d0-9d5b-db8d15660cba",
   "metadata": {},
   "outputs": [],
   "source": []
  }
 ],
 "metadata": {
  "kernelspec": {
   "display_name": "Python 3 (ipykernel)",
   "language": "python",
   "name": "python3"
  },
  "language_info": {
   "codemirror_mode": {
    "name": "ipython",
    "version": 3
   },
   "file_extension": ".py",
   "mimetype": "text/x-python",
   "name": "python",
   "nbconvert_exporter": "python",
   "pygments_lexer": "ipython3",
   "version": "3.12.7"
  }
 },
 "nbformat": 4,
 "nbformat_minor": 5
}
