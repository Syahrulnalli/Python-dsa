{
 "cells": [
  {
   "cell_type": "code",
   "execution_count": null,
   "id": "e8c253dc-0713-4a07-8de8-235ad0942287",
   "metadata": {},
   "outputs": [
    {
     "name": "stdin",
     "output_type": "stream",
     "text": [
      "Enter number of elements:  10\n"
     ]
    }
   ],
   "source": [
    "def bubble_sort(lst):\n",
    "    size = len(lst)\n",
    "    for i in range(size-1):\n",
    "        for j in range(size-1-i):\n",
    "            if lst[j] > lst[j+1]:\n",
    "                temp = lst[j]\n",
    "                lst[j] = lst[j+1]\n",
    "                lst[j+1] = temp\n",
    "                \n",
    "n = int(input(\"Enter number of elements: \"))\n",
    "# Take user input\n",
    "lst = []\n",
    "for i in range(n):\n",
    "    num = int(input(\"Enter element: \"))\n",
    "    lst.append(num)\n",
    "\n",
    "bubble_sort(lst)\n",
    "print(\"The sorted elements are:\")\n",
    "for i in range(n):\n",
    "    print(lst[i], end=\" \")\n"
   ]
  },
  {
   "cell_type": "code",
   "execution_count": null,
   "id": "b340a0c6-34a6-4c0e-ab14-0292feb12f59",
   "metadata": {},
   "outputs": [],
   "source": []
  }
 ],
 "metadata": {
  "kernelspec": {
   "display_name": "Python 3 (ipykernel)",
   "language": "python",
   "name": "python3"
  },
  "language_info": {
   "codemirror_mode": {
    "name": "ipython",
    "version": 3
   },
   "file_extension": ".py",
   "mimetype": "text/x-python",
   "name": "python",
   "nbconvert_exporter": "python",
   "pygments_lexer": "ipython3",
   "version": "3.12.7"
  }
 },
 "nbformat": 4,
 "nbformat_minor": 5
}
