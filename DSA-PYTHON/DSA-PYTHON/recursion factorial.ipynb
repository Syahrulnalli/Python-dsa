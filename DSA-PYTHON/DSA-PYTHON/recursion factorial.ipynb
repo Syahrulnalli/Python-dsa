{
 "cells": [
  {
   "cell_type": "code",
   "execution_count": null,
   "id": "db19f3bd-1b3c-4035-8b1a-79996b23272e",
   "metadata": {},
   "outputs": [],
   "source": [
    "#factorial of 6 \n",
    "def factorial(num):\n",
    "   if num == 0:\n",
    "       return 1\n",
    "   else:\n",
    "       return num*factorial(num-1)\n",
    "n = int(input(\"Enter any number: \"))\n",
    "fact = factorial(n)\n",
    "print(\"Factorial output:\",fact)"
   ]
  },
  {
   "cell_type": "code",
   "execution_count": null,
   "id": "b444c403-3b96-4d36-8c42-6972fe9db97e",
   "metadata": {},
   "outputs": [],
   "source": []
  }
 ],
 "metadata": {
  "kernelspec": {
   "display_name": "Python 3 (ipykernel)",
   "language": "python",
   "name": "python3"
  },
  "language_info": {
   "codemirror_mode": {
    "name": "ipython",
    "version": 3
   },
   "file_extension": ".py",
   "mimetype": "text/x-python",
   "name": "python",
   "nbconvert_exporter": "python",
   "pygments_lexer": "ipython3",
   "version": "3.12.7"
  }
 },
 "nbformat": 4,
 "nbformat_minor": 5
}
