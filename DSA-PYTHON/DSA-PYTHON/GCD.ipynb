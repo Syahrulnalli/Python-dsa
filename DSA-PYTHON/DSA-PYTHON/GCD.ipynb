{
 "cells": [
  {
   "cell_type": "code",
   "execution_count": 5,
   "id": "084d62ce-af1f-4536-aaa2-cc3f3070ff2e",
   "metadata": {},
   "outputs": [
    {
     "name": "stdin",
     "output_type": "stream",
     "text": [
      "Enter the value of m:  8\n",
      "Enter the value of n:  12\n"
     ]
    },
    {
     "name": "stdout",
     "output_type": "stream",
     "text": [
      "Divisors of 8: [1, 2, 4, 8]\n",
      "Divisors of 12: [1, 2, 3, 4, 6, 12]\n",
      "Common factors of 8 and 12: [1, 2, 4]\n"
     ]
    }
   ],
   "source": [
    "def find_divisors(num):\n",
    "    return [i for i in range(1, num + 1) if num % i == 0]\n",
    "\n",
    "m = int(input(\"Enter the value of m: \"))\n",
    "n = int(input(\"Enter the value of n: \"))\n",
    "\n",
    "divisors_m = find_divisors(m)\n",
    "divisors_n = find_divisors(n)\n",
    "\n",
    "common_factors = list(set(divisors_m) & set(divisors_n))\n",
    "\n",
    "print(f\"Divisors of {m}: {divisors_m}\")\n",
    "print(f\"Divisors of {n}: {divisors_n}\")\n",
    "print(f\"Common factors of {m} and {n}: {common_factors}\")\n"
   ]
  },
  {
   "cell_type": "code",
   "execution_count": 38,
   "id": "cc6c543d-d9e4-449f-9885-4d5d4629b3ff",
   "metadata": {},
   "outputs": [],
   "source": []
  },
  {
   "cell_type": "markdown",
   "id": "54f8229a-af52-4cd3-8e10-9fe66b50038b",
   "metadata": {},
   "source": []
  },
  {
   "cell_type": "code",
   "execution_count": 40,
   "id": "abe181fa-004c-4bf0-a2c4-d7aed9e6e794",
   "metadata": {},
   "outputs": [
    {
     "name": "stdin",
     "output_type": "stream",
     "text": [
      "Enter the first number:  20\n",
      "Enter the second number:  10\n"
     ]
    },
    {
     "name": "stdout",
     "output_type": "stream",
     "text": [
      "The GCD of 20 and 10 is: 10\n"
     ]
    }
   ],
   "source": [
    "def simple_gcd(m, n):\n",
    "    fm = []\n",
    "    for i in range(1, m+1):\n",
    "        if (m % i) == 0:\n",
    "            fm.append(i)\n",
    "    fn = []\n",
    "    for j in range(1, n+1):\n",
    "        if (n % j) == 0:\n",
    "            fn.append(j)\n",
    "    cf = []\n",
    "    for k in fm:\n",
    "        if k in fn:\n",
    "            cf.append(k)\n",
    "    return cf[-1]\n",
    "#user input\n",
    "m = int(input(\"Enter the first number: \"))\n",
    "n = int(input(\"Enter the second number: \"))\n",
    "#gcd \n",
    "print(\"The GCD of\", m, \"and\", n, \"is:\", simple_gcd(m, n))\n"
   ]
  },
  {
   "cell_type": "code",
   "execution_count": 13,
   "id": "6d9fd6d7-f24b-430e-a30b-da2e50fb264b",
   "metadata": {},
   "outputs": [
    {
     "name": "stdout",
     "output_type": "stream",
     "text": [
      "10\n"
     ]
    }
   ],
   "source": [
    "def simple_gcd(m, n):\n",
    "    fm = []\n",
    "    for i in range(1, m + 1):\n",
    "        if (m % i) == 0:\n",
    "            fm.append(i)\n",
    "    fn = []\n",
    "    for j in range(1, n + 1):\n",
    "        if (n % j) == 0:\n",
    "            fn.append(j)\n",
    "    cf = []\n",
    "    for k in fm:\n",
    "        if k in fn:\n",
    "            cf.append(k)\n",
    "    return cf[-1] \n",
    "print(simple_gcd(20,30))"
   ]
  },
  {
   "cell_type": "code",
   "execution_count": 11,
   "id": "fcb2467b-053a-495d-b20e-e9760233eba4",
   "metadata": {},
   "outputs": [
    {
     "name": "stdout",
     "output_type": "stream",
     "text": [
      "10\n"
     ]
    }
   ],
   "source": [
    "def gcd(m, n):\n",
    "    for i in range(1, min(m, n) + 1):\n",
    "        if (m % i) == 0 and (n % i) == 0:\n",
    "            mrcf = i  # Update mrcf to be the current divisor\n",
    "    return mrcf  # Return the greatest common divisor found\n",
    "\n",
    "# Example usage\n",
    "print(gcd(20,30))  # Output: 6\n"
   ]
  },
  {
   "cell_type": "code",
   "execution_count": 9,
   "id": "8e0feb0d-3432-49c0-a9ba-eb6b916c6d03",
   "metadata": {},
   "outputs": [
    {
     "name": "stdin",
     "output_type": "stream",
     "text": [
      "Enter the no  20\n",
      "Enter the factor  30\n"
     ]
    },
    {
     "name": "stdout",
     "output_type": "stream",
     "text": [
      "10\n"
     ]
    }
   ],
   "source": [
    "def gcd (m,n):\n",
    "    for i in range (1,min(m,n)+1):\n",
    "        if (m%i) == 0 and (n%i) == 0:\n",
    "            mrcf =i\n",
    "    return mrcf\n",
    "    \n",
    "\n",
    "m=int(input(\"Enter the no \"))\n",
    "n=int(input(\"Enter the factor \"))\n",
    "print(gcd(m,n))"
   ]
  },
  {
   "cell_type": "code",
   "execution_count": 15,
   "id": "b55a45d3-f1d7-4ca5-88e4-ec4a7444a513",
   "metadata": {},
   "outputs": [
    {
     "name": "stdout",
     "output_type": "stream",
     "text": [
      "10\n"
     ]
    }
   ],
   "source": [
    "def gcd(m, n):\n",
    "    for i in range(min(m, n), 0, -1):\n",
    "        if (m % i) == 0 and (n % i) == 0:\n",
    "            return i  \n",
    "\n",
    "\n",
    "print(gcd(20,30))  "
   ]
  },
  {
   "cell_type": "code",
   "execution_count": 23,
   "id": "e2df1efa-d30d-4a5f-8856-04c89776100a",
   "metadata": {},
   "outputs": [
    {
     "name": "stdout",
     "output_type": "stream",
     "text": [
      "10\n"
     ]
    }
   ],
   "source": [
    "def gcd(m, n):\n",
    "    i = min(m, n)\n",
    "    \n",
    "    while i > 0:\n",
    "        if (m % i) == 0 and (n % i) == 0:\n",
    "            return i  # Return the first common divisor found\n",
    "        else:\n",
    "            i -= 1  # Decrement the counter\n",
    "\n",
    "# Example usage\n",
    "print(gcd(20,30))  # Output: 6\n",
    "\n"
   ]
  },
  {
   "cell_type": "code",
   "execution_count": null,
   "id": "e69e6f8a-7948-4212-9cdf-1af3a0252439",
   "metadata": {},
   "outputs": [],
   "source": []
  }
 ],
 "metadata": {
  "kernelspec": {
   "display_name": "Python 3 (ipykernel)",
   "language": "python",
   "name": "python3"
  },
  "language_info": {
   "codemirror_mode": {
    "name": "ipython",
    "version": 3
   },
   "file_extension": ".py",
   "mimetype": "text/x-python",
   "name": "python",
   "nbconvert_exporter": "python",
   "pygments_lexer": "ipython3",
   "version": "3.12.7"
  }
 },
 "nbformat": 4,
 "nbformat_minor": 5
}
