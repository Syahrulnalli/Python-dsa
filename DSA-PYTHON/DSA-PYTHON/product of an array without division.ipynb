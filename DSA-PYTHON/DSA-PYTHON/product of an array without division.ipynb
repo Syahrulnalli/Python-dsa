{
 "cells": [
  {
   "cell_type": "code",
   "execution_count": 9,
   "id": "05881c75-6e44-4126-a44e-3cee1bf73867",
   "metadata": {},
   "outputs": [
    {
     "name": "stdout",
     "output_type": "stream",
     "text": [
      "orignal Array: [1 2 3 4 5]\n",
      "Product Array: [120, 1, 1, 1, 1]\n"
     ]
    }
   ],
   "source": [
    "import numpy as np\n",
    "x=np.array([1,2,3,4,5])\n",
    "def prod_arr(x):\n",
    "    n=len(x)\n",
    "    res=[1]*n\n",
    "    for i in range (n):\n",
    "        for j in range(n):\n",
    "            if i !=j:\n",
    "                res[i]*= x[j]\n",
    "        return res\n",
    "print(\"orignal Array:\",x)\n",
    "result=prod_arr(x)\n",
    "print(\"Product Array:\" ,result)"
   ]
  },
  {
   "cell_type": "code",
   "execution_count": null,
   "id": "13b582fe-c67f-4d1d-b5b1-3f0382988471",
   "metadata": {},
   "outputs": [],
   "source": []
  }
 ],
 "metadata": {
  "kernelspec": {
   "display_name": "Python 3 (ipykernel)",
   "language": "python",
   "name": "python3"
  },
  "language_info": {
   "codemirror_mode": {
    "name": "ipython",
    "version": 3
   },
   "file_extension": ".py",
   "mimetype": "text/x-python",
   "name": "python",
   "nbconvert_exporter": "python",
   "pygments_lexer": "ipython3",
   "version": "3.12.7"
  }
 },
 "nbformat": 4,
 "nbformat_minor": 5
}
