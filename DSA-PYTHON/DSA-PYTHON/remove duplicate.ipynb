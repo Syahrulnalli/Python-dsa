{
 "cells": [
  {
   "cell_type": "code",
   "execution_count": 17,
   "id": "c346734d-f294-46f7-a731-b31705805cca",
   "metadata": {},
   "outputs": [
    {
     "name": "stdout",
     "output_type": "stream",
     "text": [
      "[10 20 30 40 50 60 70 80]\n"
     ]
    }
   ],
   "source": [
    "#first method\n",
    "import numpy as np\n",
    "x=np.array([10,20,30,40,50,20,40,10,30,60,70,80])\n",
    "def x_dup(x):\n",
    "    y_arr=[]#looping method\n",
    "    for i in x:\n",
    "        if i not in y_arr:\n",
    "            y_arr.append(i)\n",
    "    return np.array(y_arr)\n",
    "\n",
    "result=x_dup(x)\n",
    "type(result)\n",
    "print(result)\n",
    "\n"
   ]
  },
  {
   "cell_type": "code",
   "execution_count": 21,
   "id": "13f25600-2ada-4af6-8c1b-9e4f2ebe6c47",
   "metadata": {},
   "outputs": [
    {
     "name": "stdout",
     "output_type": "stream",
     "text": [
      "[70 40 10 80 50 20 60 30]\n"
     ]
    }
   ],
   "source": [
    "#second method\n",
    "import numpy as np\n",
    "x=np.array([10,20,30,40,50,20,40,10,30,60,70,80])\n",
    "def x_dup(x):\n",
    "    y_arr=set(x)#looping method\n",
    "    z = list(y_arr)\n",
    "    \n",
    "    return np.array(z)\n",
    "\n",
    "result=x_dup(x)\n",
    "type(result)\n",
    "print(result)\n"
   ]
  },
  {
   "cell_type": "code",
   "execution_count": null,
   "id": "0829aa18-a9bb-4567-b71f-97863c6bd938",
   "metadata": {},
   "outputs": [],
   "source": []
  }
 ],
 "metadata": {
  "kernelspec": {
   "display_name": "Python 3 (ipykernel)",
   "language": "python",
   "name": "python3"
  },
  "language_info": {
   "codemirror_mode": {
    "name": "ipython",
    "version": 3
   },
   "file_extension": ".py",
   "mimetype": "text/x-python",
   "name": "python",
   "nbconvert_exporter": "python",
   "pygments_lexer": "ipython3",
   "version": "3.12.7"
  }
 },
 "nbformat": 4,
 "nbformat_minor": 5
}
