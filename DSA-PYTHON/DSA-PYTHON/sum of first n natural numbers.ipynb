{
 "cells": [
  {
   "cell_type": "code",
   "execution_count": 5,
   "id": "2cbf7adb-a863-4087-ac85-1fcf4cd96733",
   "metadata": {},
   "outputs": [
    {
     "name": "stdout",
     "output_type": "stream",
     "text": [
      "The sum of the first 6 natural numbers is 21\n"
     ]
    }
   ],
   "source": [
    "# 7) Write a recursive function to find the sum of the first n natural numbers.\n",
    "def sum_natural_numbers(n):\n",
    "    if n == 0:\n",
    "        return 0\n",
    "    return n + sum_natural_numbers(n - 1)\n",
    "\n",
    "# Input number\n",
    "num = 6\n",
    "\n",
    "# Call the function\n",
    "result = sum_natural_numbers(num)\n",
    "\n",
    "# Print the result\n",
    "print(f\"The sum of the first {num} natural numbers is {result}\")\n"
   ]
  },
  {
   "cell_type": "code",
   "execution_count": null,
   "id": "7cfab6ca-0d29-4deb-99a6-b292ead312d3",
   "metadata": {},
   "outputs": [],
   "source": []
  }
 ],
 "metadata": {
  "kernelspec": {
   "display_name": "Python 3 (ipykernel)",
   "language": "python",
   "name": "python3"
  },
  "language_info": {
   "codemirror_mode": {
    "name": "ipython",
    "version": 3
   },
   "file_extension": ".py",
   "mimetype": "text/x-python",
   "name": "python",
   "nbconvert_exporter": "python",
   "pygments_lexer": "ipython3",
   "version": "3.12.7"
  }
 },
 "nbformat": 4,
 "nbformat_minor": 5
}
